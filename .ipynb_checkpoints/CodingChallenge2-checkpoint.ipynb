{
 "cells": [
  {
   "cell_type": "code",
   "execution_count": 14,
   "metadata": {},
   "outputs": [],
   "source": [
    "from collections import Counter\n",
    "def second_element(elem):\n",
    "    return elem[1]\n",
    "\n",
    "def three_common(s):\n",
    "    common=Counter(s).most_common(3)\n",
    "    common.sort()\n",
    "    for letter in common:\n",
    "        print(letter[0]+' '+str(letter[1]))\n",
    "    return None\n",
    "        \n",
    "        \n",
    "\n",
    "        "
   ]
  },
  {
   "cell_type": "code",
   "execution_count": 43,
   "metadata": {},
   "outputs": [
    {
     "name": "stdout",
     "output_type": "stream",
     "text": [
      "{'b': 2, 'a': 2, 'c': 3}\n"
     ]
    }
   ],
   "source": [
    "three_common('bbaaccc')\n"
   ]
  },
  {
   "cell_type": "code",
   "execution_count": 42,
   "metadata": {},
   "outputs": [],
   "source": [
    "def three_common(s):\n",
    "    counter={}\n",
    "    for l in s:\n",
    "        if l not in counter:\n",
    "            counter[l]=1\n",
    "        else:\n",
    "            counter[l]+=1\n",
    "    print(counter)\n"
   ]
  },
  {
   "cell_type": "code",
   "execution_count": null,
   "metadata": {
    "collapsed": true
   },
   "outputs": [],
   "source": []
  }
 ],
 "metadata": {
  "kernelspec": {
   "display_name": "Python 3",
   "language": "python",
   "name": "python3"
  },
  "language_info": {
   "codemirror_mode": {
    "name": "ipython",
    "version": 3
   },
   "file_extension": ".py",
   "mimetype": "text/x-python",
   "name": "python",
   "nbconvert_exporter": "python",
   "pygments_lexer": "ipython3",
   "version": "3.6.3"
  }
 },
 "nbformat": 4,
 "nbformat_minor": 2
}
